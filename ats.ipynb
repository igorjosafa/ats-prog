{
 "cells": [
  {
   "cell_type": "code",
   "execution_count": 2,
   "metadata": {},
   "outputs": [],
   "source": [
    "import pandas as pd\n",
    "import numpy as np\n",
    "from datetime import datetime\n",
    "import re\n",
    "\n",
    "mes_da_folha = 7\n",
    "\n",
    "df = pd.read_csv('.\\\\ATS - 7-2023\\\\ats gerados - 2023.csv', names=range(12), delimiter=';')\n",
    "df_adicionais_mentorh = pd.DataFrame()\n",
    "df_adicionais_mentorh['Nome'] = [nome[:-8] for indice, nome in enumerate(df[1]) if indice%6 == 0]\n",
    "df_adicionais_mentorh['Matricula'] = [matricula[-5:] for indice, matricula in enumerate(df[1]) if indice%6 == 0]\n",
    "adicionais_anteriores = [re.findall('\\d+', adicional[-4:-2]) for indice, adicional in enumerate(df[1]) if (indice-2) >= 0 and (indice-2)%6==0]\n",
    "df_adicionais_mentorh['ATS anterior'] = [int(adicional[0]) if len(adicional) > 0 else 0 for adicional in adicionais_anteriores]\n",
    "df_adicionais_mentorh['ATS novo'] = [int(adicional[:-2]) for indice, adicional in enumerate(df[8]) if (indice-4) >= 0 and (indice-4)%6==0]\n",
    "df_adicionais_mentorh['Diferenca ATS'] = df_adicionais_mentorh['ATS novo'] - df_adicionais_mentorh['ATS anterior']\n",
    "\n",
    "\n",
    "df_SQL = pd.read_csv('.\\\\ATS - 7-2023\\\\ats gerados - 2023 SQL.csv', delimiter=';')\n",
    "matriculas_SQL_fora_do_mentorh = df_SQL[df_SQL['Matricula'].apply(lambda x: str(x) not in list(df_adicionais_mentorh['Matricula']))]\n",
    "if len(matriculas_SQL_fora_do_mentorh) > 0:\n",
    "        with open('matriculas para incluir no ATS.txt', 'w') as arquivo:\n",
    "            for index, row in matriculas_SQL_fora_do_mentorh.iterrows():\n",
    "                linha = row\n",
    "                arquivo.write(f\"{linha}\\n\")\n",
    "        \n",
    "df_SQL['Novo_Inicio'] = df_SQL['Novo_Inicio'].apply(lambda x: int(str(x)[-7:-5]) if len(str(x))>1 else mes_da_folha)\n",
    "matriculas_com_afastamento = df_SQL[df_SQL['Novo_Inicio'] != mes_da_folha]\n",
    "if len(matriculas_com_afastamento) > 0:\n",
    "        with open('matriculas para retirar o ATS.txt', 'w') as arquivo:\n",
    "            arquivo.write(\"Retirar as seguintes matrículas e criar a tarefa no JIRA para lançar no mês correto: \\n\\n\")\n",
    "            for index, row in matriculas_com_afastamento.iterrows():\n",
    "                linha = row\n",
    "                arquivo.write(f\"{linha}\\n\")\n"
   ]
  },
  {
   "cell_type": "code",
   "execution_count": 4,
   "metadata": {},
   "outputs": [
    {
     "data": {
      "text/plain": [
       "False"
      ]
     },
     "execution_count": 4,
     "metadata": {},
     "output_type": "execute_result"
    }
   ],
   "source": [
    "from datetime import datetime\n",
    "from mrh.web.scripts.fopag_ats import fopag_ats\n",
    "julho = datetime(day=31,month=7,year=2023)\n",
    "# fopag_ats(usuario='', senha='', data_limite=julho)"
   ]
  },
  {
   "cell_type": "code",
   "execution_count": 6,
   "metadata": {},
   "outputs": [
    {
     "data": {
      "text/plain": [
       "False"
      ]
     },
     "execution_count": 6,
     "metadata": {},
     "output_type": "execute_result"
    }
   ],
   "source": [
    "from datetime import datetime\n",
    "from mrh.web.scripts.fopag_progressao import fopag_progressao\n",
    "julho = datetime(day=31,month=7,year=2023)\n",
    "fopag_progressao(usuario='', senha='', data_limite=julho)"
   ]
  },
  {
   "cell_type": "code",
   "execution_count": 1,
   "metadata": {},
   "outputs": [
    {
     "data": {
      "text/plain": [
       "False"
      ]
     },
     "execution_count": 1,
     "metadata": {},
     "output_type": "execute_result"
    }
   ],
   "source": [
    "from datetime import datetime\n",
    "from mrh.web.scripts.fopag_ferias_ats_prog import fopag_ferias\n",
    "julho_inicio = datetime(day=1,month=7,year=2023)\n",
    "julho_fim = datetime(day=31,month=7,year=2023)\n",
    "fopag_ferias(usuario='', senha='', data_inicio=julho_inicio, data_fim=julho_fim)"
   ]
  }
 ],
 "metadata": {
  "kernelspec": {
   "display_name": ".venv",
   "language": "python",
   "name": "python3"
  },
  "language_info": {
   "codemirror_mode": {
    "name": "ipython",
    "version": 3
   },
   "file_extension": ".py",
   "mimetype": "text/x-python",
   "name": "python",
   "nbconvert_exporter": "python",
   "pygments_lexer": "ipython3",
   "version": "3.11.3"
  },
  "orig_nbformat": 4
 },
 "nbformat": 4,
 "nbformat_minor": 2
}
